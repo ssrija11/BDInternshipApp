{
 "cells": [
  {
   "cell_type": "code",
   "execution_count": 2,
   "id": "c737fa5e-7d78-46b4-8a49-6c69659af4d1",
   "metadata": {},
   "outputs": [],
   "source": [
    "import pandas as pd"
   ]
  },
  {
   "cell_type": "code",
   "execution_count": 3,
   "id": "513ffa34-1e86-4d2c-aefd-431167117739",
   "metadata": {},
   "outputs": [
    {
     "name": "stderr",
     "output_type": "stream",
     "text": [
      "C:\\Users\\ssrij\\anaconda3\\lib\\site-packages\\xlsxwriter\\workbook.py:338: UserWarning: Calling close() on already closed file.\n",
      "  warn(\"Calling close() on already closed file.\")\n"
     ]
    }
   ],
   "source": [
    "#reading in excel sheet\n",
    "All_Data = pd.read_excel(r\"C:\\Users\\ssrij\\OneDrive\\Desktop\\Srija\\InternshipApps2021\\BD Copy.xlsx\")\n",
    "\n",
    "#cleaning step\n",
    "#begin splitting into two separate dataframes: one for TSC, one for FST\n",
    "#drop all rows with nulls in the listed columns.\n",
    "#after this stage, TSC data frame should have no missing values in columns related to TSC, same for FST df\n",
    "TSC_Data = All_Data.dropna(subset=['TSC wait time 5 point', 'TSC communication 5 point',\n",
    "       'TSC sense of urgency 5 point', 'TSC status of issue 5 point',\n",
    "       'TSC knowledgeable rep 5 point', 'TSC efficient resolution 5 point', 'CES 5 point', '5 Point OSAT' ] )\n",
    "FST_Data = All_Data.dropna(subset=['FST timely visit', 'FST clear explanation of repair',\n",
    "       'FST technician was prepared', 'FST technician was professional',\n",
    "       'FST kept aware of status', 'FST technician was knowledgeable', 'FST efficient resolution','CES 5 point', '5 Point OSAT' ] )\n",
    "\n",
    "#filtering down to relevant columns necessary for analysis\n",
    "#creates new, smaller data frames from the cleaned dataframes\n",
    "TSC_Data_small = TSC_Data[['TSC wait time 5 point', 'TSC communication 5 point',\n",
    "       'TSC sense of urgency 5 point', 'TSC status of issue 5 point',\n",
    "       'TSC knowledgeable rep 5 point', 'TSC efficient resolution 5 point', 'CES 5 point', '5 Point OSAT', \n",
    "        'Survey End Date', 'CONTACT ROLE', 'CUSTOMER SHIP TO STATE', 'CUSTOMER SHIP TO COUNTRY', 'TSC OSAT', \n",
    "        'Tech support OSAT 5 point', 'Product Group']]\n",
    "FST_Data_small = FST_Data[['FST timely visit', 'FST clear explanation of repair',\n",
    "       'FST technician was prepared', 'FST technician was professional',\n",
    "       'FST kept aware of status', 'FST technician was knowledgeable', 'FST efficient resolution', 'CES 5 point', '5 Point OSAT', \n",
    "        'Survey End Date', 'CONTACT ROLE', 'CUSTOMER SHIP TO STATE', 'CUSTOMER SHIP TO COUNTRY', 'FST OSAT', \n",
    "        'Field service OSAT 5 point', 'Product Group']]\n",
    "\n",
    "#there is international data, but not a lot of it, filtered to US only for more meaningful analysis\n",
    "#creating US only dataframes from small, clean dataframe. Includes only rows corresponding to the US\n",
    "TSC_US = TSC_Data_small[TSC_Data_small['CUSTOMER SHIP TO COUNTRY']==\"US\"]\n",
    "FST_US = FST_Data_small[FST_Data_small['CUSTOMER SHIP TO COUNTRY']==\"US\"]\n",
    "\n",
    "\n",
    "#creating writer\n",
    "#this step writes the dataframes to the dataframes created earlier to separate sheets in excel\n",
    "writer = pd.ExcelWriter(r\"C:\\Users\\ssrij\\OneDrive\\Desktop\\Srija\\InternshipApps2021\\BD Copy.xlsx\")\n",
    "All_Data.to_excel(writer, sheet_name = \"All\", index=False)\n",
    "TSC_Data_small.to_excel(writer, sheet_name = \"TSC\", index=False)\n",
    "FST_Data_small.to_excel(writer, sheet_name = \"FST\", index=False)\n",
    "TSC_US.to_excel(writer, sheet_name = \"TSC US\", index=False)\n",
    "FST_US.to_excel(writer, sheet_name = \"FST US\", index=False)\n",
    "writer.save()\n",
    "writer.close()"
   ]
  },
  {
   "cell_type": "code",
   "execution_count": null,
   "id": "5f7a0f20-752a-4592-b3d7-c6311c7b6fdc",
   "metadata": {},
   "outputs": [],
   "source": []
  },
  {
   "cell_type": "code",
   "execution_count": null,
   "id": "0ccd9740-8079-48c2-a177-8789c94e1644",
   "metadata": {},
   "outputs": [],
   "source": []
  }
 ],
 "metadata": {
  "kernelspec": {
   "display_name": "Python 3 (ipykernel)",
   "language": "python",
   "name": "python3"
  },
  "language_info": {
   "codemirror_mode": {
    "name": "ipython",
    "version": 3
   },
   "file_extension": ".py",
   "mimetype": "text/x-python",
   "name": "python",
   "nbconvert_exporter": "python",
   "pygments_lexer": "ipython3",
   "version": "3.9.7"
  },
  "toc-autonumbering": true,
  "toc-showcode": true,
  "toc-showmarkdowntxt": true
 },
 "nbformat": 4,
 "nbformat_minor": 5
}
